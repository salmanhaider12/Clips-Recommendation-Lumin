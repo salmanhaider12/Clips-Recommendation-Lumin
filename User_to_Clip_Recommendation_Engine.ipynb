{
  "nbformat": 4,
  "nbformat_minor": 0,
  "metadata": {
    "colab": {
      "provenance": []
    },
    "kernelspec": {
      "name": "python3",
      "display_name": "Python 3"
    },
    "language_info": {
      "name": "python"
    }
  },
  "cells": [
    {
      "cell_type": "code",
      "execution_count": 1,
      "metadata": {
        "id": "lVBD8H_Mmt3t"
      },
      "outputs": [],
      "source": [
        "import pandas as pd\n",
        "from sklearn.metrics.pairwise import cosine_similarity\n",
        "from sklearn.feature_extraction.text import CountVectorizer"
      ]
    },
    {
      "cell_type": "code",
      "source": [
        "# Sample clips with tags\n",
        "clips = pd.DataFrame({\n",
        "    'clip_id': [1, 2, 3, 4, 5],\n",
        "    'title': ['Epic 1v3 clutch', 'Hilarious fail', 'Perfect headshot', 'Funny commentary', 'Game-winning highlight'],\n",
        "    'tags': ['clutch headshot', 'fail comedy', 'headshot clutch', 'comedy highlight', 'highlight clutch']\n",
        "})"
      ],
      "metadata": {
        "id": "pgKvcCsZnCp_"
      },
      "execution_count": 2,
      "outputs": []
    },
    {
      "cell_type": "code",
      "source": [
        "# Simulated user history\n",
        "user_profiles = {\n",
        "    'User_A': ['clutch', 'headshot'],\n",
        "    'User_B': ['comedy', 'fail'],\n",
        "    'User_C': ['highlight']\n",
        "}"
      ],
      "metadata": {
        "id": "CqVoeNrmnHhv"
      },
      "execution_count": 3,
      "outputs": []
    },
    {
      "cell_type": "code",
      "source": [
        "# Create tag vectors\n",
        "vectorizer = CountVectorizer()\n",
        "tag_matrix = vectorizer.fit_transform(clips['tags'])\n",
        "\n",
        "# Calculate similarity matrix\n",
        "similarity_matrix = cosine_similarity(tag_matrix)"
      ],
      "metadata": {
        "id": "uxjbMldbnL11"
      },
      "execution_count": 4,
      "outputs": []
    },
    {
      "cell_type": "code",
      "source": [
        "# Function to recommend top N clips for a user\n",
        "def recommend_clips(user, top_n=3):\n",
        "    user_pref = \" \".join(user_profiles[user])\n",
        "    user_vector = vectorizer.transform([user_pref])\n",
        "    similarities = cosine_similarity(user_vector, tag_matrix).flatten()\n",
        "\n",
        "    top_indices = similarities.argsort()[::-1][:top_n]\n",
        "    return clips.iloc[top_indices][['clip_id', 'title', 'tags']]"
      ],
      "metadata": {
        "id": "eITeCtSVnQ-R"
      },
      "execution_count": 5,
      "outputs": []
    },
    {
      "cell_type": "code",
      "source": [
        "print(\"Recommendations for User_A\")\n",
        "print(recommend_clips('User_A'))\n",
        "\n",
        "print(\"\\nRecommendations for User_B\")\n",
        "print(recommend_clips('User_B'))\n",
        "\n",
        "print(\"\\nRecommendations for User_C\")\n",
        "print(recommend_clips('User_C'))\n"
      ],
      "metadata": {
        "colab": {
          "base_uri": "https://localhost:8080/"
        },
        "id": "F5aEV_sinaXK",
        "outputId": "105bb837-a4d7-4d4a-e27f-68f8e860d410"
      },
      "execution_count": 6,
      "outputs": [
        {
          "output_type": "stream",
          "name": "stdout",
          "text": [
            "Recommendations for User_A\n",
            "   clip_id                   title              tags\n",
            "2        3        Perfect headshot   headshot clutch\n",
            "0        1         Epic 1v3 clutch   clutch headshot\n",
            "4        5  Game-winning highlight  highlight clutch\n",
            "\n",
            "Recommendations for User_B\n",
            "   clip_id                   title              tags\n",
            "1        2          Hilarious fail       fail comedy\n",
            "3        4        Funny commentary  comedy highlight\n",
            "4        5  Game-winning highlight  highlight clutch\n",
            "\n",
            "Recommendations for User_C\n",
            "   clip_id                   title              tags\n",
            "4        5  Game-winning highlight  highlight clutch\n",
            "3        4        Funny commentary  comedy highlight\n",
            "2        3        Perfect headshot   headshot clutch\n"
          ]
        }
      ]
    }
  ]
}